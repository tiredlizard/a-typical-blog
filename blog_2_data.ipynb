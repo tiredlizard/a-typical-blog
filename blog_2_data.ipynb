{
 "cells": [
  {
   "cell_type": "code",
   "execution_count": 40,
   "metadata": {},
   "outputs": [],
   "source": [
    "import pandas as pd\n",
    "import requests\n",
    "from bs4 import BeautifulSoup\n",
    "import time"
   ]
  },
  {
   "cell_type": "code",
   "execution_count": 41,
   "metadata": {},
   "outputs": [
    {
     "name": "stdout",
     "output_type": "stream",
     "text": [
      "200\n"
     ]
    }
   ],
   "source": [
    "gamesurl = \"https://www.mobygames.com/platform/switch/\"\n",
    "r = requests.get(gamesurl)\n",
    "print(r.status_code)\n",
    "gamesbs = BeautifulSoup(r.text)"
   ]
  },
  {
   "cell_type": "code",
   "execution_count": 27,
   "metadata": {},
   "outputs": [
    {
     "name": "stdout",
     "output_type": "stream",
     "text": [
      "Super Mario Odyssey https://www.mobygames.com/game/96127/super-mario-odyssey/ \n",
      "      2017\n",
      "     \n",
      "    9.4\n",
      "  \n"
     ]
    }
   ],
   "source": [
    "title1 = gamesbs.find('td', {'class': 'text-nowrap'}).find('a').text\n",
    "link1 = gamesbs.find('td', {'class': 'text-nowrap'}).find('a')['href']\n",
    "year1 = gamesbs.find('td', {'class': 'text-center text-nowrap'}).text\n",
    "#genre1 = gamesbs.find('td', {'class': 'overflow-x-scroll'}).find('a').text\n",
    "score1 = gamesbs.find('div', {'class': 'mobyscore'}).text\n",
    "\n",
    "#perspective\n",
    "#gameplay\n",
    "#setting\n",
    "#ESRB\n",
    "\n",
    "\n",
    "print(title1,link1, year1, score1)"
   ]
  },
  {
   "cell_type": "code",
   "execution_count": null,
   "metadata": {},
   "outputs": [
    {
     "ename": "AttributeError",
     "evalue": "'NoneType' object has no attribute 'find'",
     "output_type": "error",
     "traceback": [
      "\u001b[0;31m---------------------------------------------------------------------------\u001b[0m",
      "\u001b[0;31mAttributeError\u001b[0m                            Traceback (most recent call last)",
      "Cell \u001b[0;32mIn[39], line 19\u001b[0m\n\u001b[1;32m     16\u001b[0m \u001b[38;5;28;01mfor\u001b[39;00m game \u001b[38;5;129;01min\u001b[39;00m games:\n\u001b[1;32m     17\u001b[0m     time\u001b[38;5;241m.\u001b[39msleep(\u001b[38;5;241m3\u001b[39m)\n\u001b[0;32m---> 19\u001b[0m     title \u001b[38;5;241m=\u001b[39m game\u001b[38;5;241m.\u001b[39mfind(\u001b[38;5;124m'\u001b[39m\u001b[38;5;124mtd\u001b[39m\u001b[38;5;124m'\u001b[39m, {\u001b[38;5;124m'\u001b[39m\u001b[38;5;124mclass\u001b[39m\u001b[38;5;124m'\u001b[39m: \u001b[38;5;124m'\u001b[39m\u001b[38;5;124mtext-nowrap\u001b[39m\u001b[38;5;124m'\u001b[39m})\u001b[38;5;241m.\u001b[39mfind(\u001b[38;5;124m'\u001b[39m\u001b[38;5;124ma\u001b[39m\u001b[38;5;124m'\u001b[39m)\u001b[38;5;241m.\u001b[39mtext\n\u001b[1;32m     20\u001b[0m     titles\u001b[38;5;241m.\u001b[39mappend(title)\n\u001b[1;32m     22\u001b[0m     year \u001b[38;5;241m=\u001b[39m game\u001b[38;5;241m.\u001b[39mfind(\u001b[38;5;124m'\u001b[39m\u001b[38;5;124mtd\u001b[39m\u001b[38;5;124m'\u001b[39m, {\u001b[38;5;124m'\u001b[39m\u001b[38;5;124mclass\u001b[39m\u001b[38;5;124m'\u001b[39m: \u001b[38;5;124m'\u001b[39m\u001b[38;5;124mtext-center text-nowrap\u001b[39m\u001b[38;5;124m'\u001b[39m})\u001b[38;5;241m.\u001b[39mtext\n",
      "\u001b[0;31mAttributeError\u001b[0m: 'NoneType' object has no attribute 'find'"
     ]
    }
   ],
   "source": [
    "titles = []\n",
    "links = []\n",
    "years = []\n",
    "scores = []\n",
    "genres = []\n",
    "\n",
    "base_url = gamesurl\n",
    "max_pages = 2\n",
    "page_count = 0\n",
    "\n",
    "#webscraping runsum; pd.read_html\n",
    "\n",
    "\n",
    "\n",
    "while base_url and page_count < max_pages: \n",
    "    response = requests.get(base_url)\n",
    "    gamesbs = BeautifulSoup(response.text)\n",
    "\n",
    "    games = gamesbs.find_all('tr')\n",
    "    for game in games:\n",
    "        time.sleep(3)\n",
    "        \n",
    "        title = game.find('td', {'class': 'text-nowrap'}).find('a').text\n",
    "        titles.append(title)\n",
    "\n",
    "        year = game.find('td', {'class': 'text-center text-nowrap'}).text\n",
    "        years.append(year)\n",
    "\n",
    "        score = game.find('div', {'class': 'mobyscore'}).text\n",
    "        scores.append(score)\n",
    "\n",
    "        link = game.find('td', {'class': 'text-nowrap'}).find('a')['href']\n",
    "        links.append(link)\n",
    "    \n",
    "    next_page = gamesbs.find('a', text = 'Next')\n",
    "    if next_page:\n",
    "        base_url = 'https://www.mobygames.com' + next_page['href']\n",
    "    else:\n",
    "        base_url = None\n",
    "    \n",
    "    page_count += 1\n",
    "\n",
    "print(f\"Collected {len(titles)} titles.\")\n",
    "\n",
    "\n"
   ]
  },
  {
   "cell_type": "code",
   "execution_count": null,
   "metadata": {},
   "outputs": [
    {
     "name": "stdout",
     "output_type": "stream",
     "text": [
      "Collected 50 titles.\n",
      "['https://www.mobygames.com/game/96127/super-mario-odyssey/', 'https://www.mobygames.com/game/84595/the-legend-of-zelda-breath-of-the-wild/', 'https://www.mobygames.com/game/203119/the-legend-of-zelda-tears-of-the-kingdom/', 'https://www.mobygames.com/game/199460/metroid-prime-remastered/', 'https://www.mobygames.com/game/84194/hollow-knight/', 'https://www.mobygames.com/game/87551/mario-kart-8-deluxe/', 'https://www.mobygames.com/game/101142/celeste/', 'https://www.mobygames.com/game/210462/super-mario-bros-wonder/', 'https://www.mobygames.com/game/193990/persona-5-royal/', 'https://www.mobygames.com/game/122190/hades/', 'https://www.mobygames.com/game/110476/super-smash-bros-ultimate/', 'https://www.mobygames.com/game/188601/xenoblade-chronicles-3/', 'https://www.mobygames.com/game/70372/bayonetta-2/', 'https://www.mobygames.com/game/172841/metroid-dread/', 'https://www.mobygames.com/game/224693/paper-mario-the-thousand-year-door/', 'https://www.mobygames.com/game/79643/inside/', 'https://www.mobygames.com/game/115729/tetris-effect/', 'https://www.mobygames.com/game/158999/super-mario-3d-world-bowsers-fury/', 'https://www.mobygames.com/game/122188/dragon-quest-xi-s-echoes-of-an-elusive-age-definitive-edition/', 'https://www.mobygames.com/game/161259/the-house-in-fata-morgana-dreams-of-the-revenants-edition/', 'https://www.mobygames.com/game/224039/lorelei-and-the-laser-eyes/', 'https://www.mobygames.com/game/195765/chained-echoes/', 'https://www.mobygames.com/game/199777/theatrhythm-final-bar-line/', 'https://www.mobygames.com/game/122207/super-mario-maker-2/', 'https://www.mobygames.com/game/193002/mario-rabbids-sparks-of-hope/', 'https://www.mobygames.com/game/74938/undertale/', 'https://www.mobygames.com/game/150382/13-sentinels-aegis-rim/', 'https://www.mobygames.com/game/181802/kirby-and-the-forgotten-land/', 'https://www.mobygames.com/game/160124/monster-hunter-rise/', 'https://www.mobygames.com/game/59294/persona-4-golden/', 'https://www.mobygames.com/game/88471/minecraft-nintendo-switch-edition/', 'https://www.mobygames.com/game/217980/balatro/', 'https://www.mobygames.com/game/170577/tsukihime-a-piece-of-blue-glass-moon/', 'https://www.mobygames.com/game/174498/shin-megami-tensei-v/', 'https://www.mobygames.com/game/195171/atari-50-the-anniversary-celebration/', 'https://www.mobygames.com/game/223654/animal-well/', 'https://www.mobygames.com/game/91525/diablo-iii-eternal-collection/', 'https://www.mobygames.com/game/80992/stardew-valley/', 'https://www.mobygames.com/game/145915/xenoblade-chronicles-definitive-edition/', 'https://www.mobygames.com/game/141533/animal-crossing-new-horizons/', 'https://www.mobygames.com/game/106052/the-messenger/', 'https://www.mobygames.com/game/130036/ai-the-somnium-files/', 'https://www.mobygames.com/game/122228/the-legend-of-zelda-links-awakening/', 'https://www.mobygames.com/game/191783/return-to-monkey-island/', 'https://www.mobygames.com/game/73767/rocket-league/', 'https://www.mobygames.com/game/82645/the-elder-scrolls-v-skyrim-special-edition/', 'https://www.mobygames.com/game/109978/monster-boy-and-the-cursed-kingdom/', 'https://www.mobygames.com/game/66119/donkey-kong-country-tropical-freeze/', 'https://www.mobygames.com/game/230048/castlevania-dominus-collection/', 'https://www.mobygames.com/game/78427/ori-and-the-blind-forest-definitive-edition/']\n"
     ]
    }
   ],
   "source": [
    "import pandas as pd\n",
    "import requests\n",
    "import time\n",
    "from io import StringIO\n",
    "\n",
    "titles = []\n",
    "links = []\n",
    "years = []\n",
    "scores = []\n",
    "genres = []\n",
    "\n",
    "base_url = gamesurl\n",
    "max_pages = 6\n",
    "page_count = 0\n",
    "\n",
    "while base_url and page_count < max_pages: \n",
    "\n",
    "    \n",
    "    response = requests.get(base_url)\n",
    "    tables = pd.read_html(StringIO(response.text))  # Get all tables on the page\n",
    "\n",
    "    # Assuming the table you want is the first one (tables[0])\n",
    "    games_df = tables[0]  \n",
    "\n",
    "    # Extract relevant columns from games_df as needed\n",
    "    titles.extend(games_df['Title'].tolist())  # replace 'Title' with the actual column name\n",
    "    years.extend(games_df['Released'].tolist())  # replace 'Year' with the actual column name\n",
    "    scores.extend(games_df['Moby Score'].tolist())  # replace 'Score' with the actual column name\n",
    "    genres.extend(games_df['Genres'].tolist())\n",
    "\n",
    "    # If links are in another structure on the page, BeautifulSoup might still be useful:\n",
    "    gamesbs = BeautifulSoup(response.text, 'html.parser')\n",
    "    game_links = [tag['href'] for tag in gamesbs.select('td.text-nowrap a')]\n",
    "    links.extend(game_links)\n",
    "    \n",
    "    # Check for the next page\n",
    "    next_page = gamesbs.find('a', string='Next')\n",
    "    if next_page:\n",
    "        base_url = 'https://www.mobygames.com' + next_page['href']\n",
    "    else:\n",
    "        base_url = None\n",
    "\n",
    "    page_count += 1\n",
    "    time.sleep(3)  # Respectful delay for scraping\n",
    "\n",
    "print(f\"Collected {len(titles)} titles.\")\n"
   ]
  },
  {
   "cell_type": "code",
   "execution_count": 59,
   "metadata": {},
   "outputs": [
    {
     "name": "stdout",
     "output_type": "stream",
     "text": [
      "None\n"
     ]
    }
   ],
   "source": [
    "next_page = gamesbs.find('a', href=True, string=\"Next\")\n",
    "\n",
    "\n",
    "print(next_page)"
   ]
  },
  {
   "cell_type": "code",
   "execution_count": null,
   "metadata": {},
   "outputs": [],
   "source": [
    "response = requests.get(base_url)\n",
    "tables = pd.read_html(StringIO(response.text))\n",
    "tables"
   ]
  },
  {
   "cell_type": "code",
   "execution_count": null,
   "metadata": {},
   "outputs": [],
   "source": [
    "# for link in links:\n",
    "#     response = requests.get(link)\n",
    "#     gamelinkbs = BeautifulSoup(response.text)\n",
    "    "
   ]
  },
  {
   "cell_type": "code",
   "execution_count": null,
   "metadata": {},
   "outputs": [
    {
     "name": "stdout",
     "output_type": "stream",
     "text": [
      "ESRB Rating: Everyone 10+\n"
     ]
    }
   ],
   "source": [
    "linkpractice = 'https://www.mobygames.com/game/96127/super-mario-odyssey/'\n",
    "response_again = requests.get(linkpractice)\n",
    "gamepagebs = BeautifulSoup(response_again.text)\n",
    "\n",
    "metadata_sections = gamepagebs.find_all('dl',class_ = 'metadata')\n",
    "for section in metadata_sections:\n",
    "    # Find the <dt> element with text 'ESRB Rating'\n",
    "    esrb_string = section.find('dt', string='ESRB Rating')\n",
    "    esrb_rating = esrb_string.find_next('dd').text.strip()\n",
    "\n",
    "    multi_string = section.find('dt', string='Multiplayer Options')\n",
    "    multi_options = multi_string.find_next('dd').text.strip()\n",
    "\n",
    "    # genre_string = section.find('dt', string='Genre')\n",
    "    # genre = genre_string.find_next('dd').text.strip()\n",
    "\n",
    "    perspective_string = section.find('dt', string='Perspective')\n",
    "    perspective = perspective_string.find_next('dd').text.strip()\n",
    "\n",
    "    setting_string = section.find('dt', string='Setting')\n",
    "    setting = setting_string.find_next('dd').text.strip()\n",
    "\n",
    "    gameplay_string = section.find('dt', string='Gameplay')\n",
    "    game_play = gameplay_string.find_next('dd').text.strip()\n",
    "\n",
    "    released_string = section.find('dt', string='Released')\n",
    "    release_date = released_string.find_next('dd').text.strip()\n",
    "\n",
    "\n",
    "\n",
    "    # if dt:\n",
    "    #     # If 'ESRB Rating' is found, find the corresponding <dd> element\n",
    "    #     esrb_rating = dt.find_next('dd').text.strip()\n",
    "    #     break  # Exit the loop once we find the rating\n",
    "\n",
    "print(f\"ESRB Rating: {esrb_rating}\")\n"
   ]
  },
  {
   "cell_type": "code",
   "execution_count": null,
   "metadata": {},
   "outputs": [],
   "source": [
    "#genre2 = gamelinkbs.find('td', {'class': 'overflow-x-scroll'}).find('a').text\n",
    "esrb1 = gamepagebs.find('dl', string = 'ESRB Rating').find('a').text\n",
    "\n",
    "print(esrb1)"
   ]
  }
 ],
 "metadata": {
  "kernelspec": {
   "display_name": "stat386",
   "language": "python",
   "name": "python3"
  },
  "language_info": {
   "codemirror_mode": {
    "name": "ipython",
    "version": 3
   },
   "file_extension": ".py",
   "mimetype": "text/x-python",
   "name": "python",
   "nbconvert_exporter": "python",
   "pygments_lexer": "ipython3",
   "version": "3.12.5"
  }
 },
 "nbformat": 4,
 "nbformat_minor": 2
}
